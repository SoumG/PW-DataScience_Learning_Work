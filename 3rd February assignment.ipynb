{
 "cells": [
  {
   "cell_type": "markdown",
   "id": "7fecc1d3",
   "metadata": {},
   "source": [
    "##### NAME : SOUMYAJIT GHOSH   ASSIGNMENT DATE : 3rd February"
   ]
  },
  {
   "cell_type": "markdown",
   "id": "adecd1ba",
   "metadata": {},
   "source": [
    "<img src=\"b.png\" style = \"width: 220px; h eight: 150px\" tittle =\"assignment\">"
   ]
  },
  {
   "cell_type": "markdown",
   "id": "c9cad4e4",
   "metadata": {},
   "source": [
    " Q. 1 \n",
    "\n",
    "    The def keyword is used to create or define a function."
   ]
  },
  {
   "cell_type": "code",
   "execution_count": 27,
   "id": "ff73d076",
   "metadata": {},
   "outputs": [
    {
     "name": "stdout",
     "output_type": "stream",
     "text": [
      "Enter the start of range:1\n",
      "Enter the end of range:10\n",
      "1\n",
      "3\n",
      "5\n",
      "7\n",
      "9\n",
      "None\n"
     ]
    }
   ],
   "source": [
    "#define function\n",
    "def odd():\n",
    "    \n",
    "    start = int(input(\"Enter the start of range:\"))\n",
    "    end = int(input(\"Enter the end of range:\"))\n",
    " \n",
    "    # iterating each number in list\n",
    "    for num in range(start, end + 1):\n",
    " \n",
    "        # checking condition\n",
    "        if num % 2 != 0:\n",
    "            print(num)\n",
    "        \n",
    "print(odd())"
   ]
  },
  {
   "cell_type": "markdown",
   "id": "054999ca",
   "metadata": {},
   "source": [
    "Q.2\n",
    "\n",
    "    *args allows a function to accept any number of positional arguments i.e. arguments that are non-keyword arguments, variable-length argument list.\n",
    "\n",
    "\n",
    "    *kwargs is a special syntax that allows us to pass a variable length of keyword arguments to the function."
   ]
  },
  {
   "cell_type": "code",
   "execution_count": 34,
   "id": "c7ec71d5",
   "metadata": {},
   "outputs": [
    {
     "name": "stdout",
     "output_type": "stream",
     "text": [
      "Doing\n",
      "PWC\n",
      "Function\n",
      "Assignment \n"
     ]
    }
   ],
   "source": [
    "#args\n",
    "\n",
    "def my_assignment(*argv):\n",
    "    for i in argv:\n",
    "        print(i)\n",
    " \n",
    " \n",
    "my_assignment('Doing', 'PWC', 'Function', 'Assignment ')"
   ]
  },
  {
   "cell_type": "code",
   "execution_count": 35,
   "id": "62762453",
   "metadata": {},
   "outputs": [
    {
     "name": "stdout",
     "output_type": "stream",
     "text": [
      "first == Doing\n",
      "mid == Assignment\n",
      "last == Here\n"
     ]
    }
   ],
   "source": [
    "def my_keyassign(**kwargs):\n",
    "    for key, value in kwargs.items():\n",
    "        print(\"%s == %s\" % (key, value))\n",
    " \n",
    " \n",
    "# Driver code\n",
    "my_keyassign(first='Doing', mid='Assignment', last='Here')"
   ]
  },
  {
   "cell_type": "markdown",
   "id": "bc626563",
   "metadata": {},
   "source": [
    "Q.3 \n",
    "\n",
    "    In Python, an iterator is an object that allows you to iterate over collections of data, such as lists, tuples, dictionaries, and sets. Python iterators implement the iterator design pattern, which allows you to traverse a container and access its elements.\n",
    "\n",
    "\n",
    "\n",
    "    Iter() method is used to initialize the iterator object so that the instance of this object can be used for iterating."
   ]
  },
  {
   "cell_type": "code",
   "execution_count": 45,
   "id": "a2298d84",
   "metadata": {},
   "outputs": [
    {
     "name": "stdout",
     "output_type": "stream",
     "text": [
      "2\n",
      "4\n",
      "6\n",
      "8\n",
      "10\n"
     ]
    }
   ],
   "source": [
    "# create a list of integers\n",
    "my_list = [2, 4, 6, 8, 10, 12, 14, 16, 18, 20]\n",
    "\n",
    "# create an iterator from the list\n",
    "iterator = iter(my_list[:5])\n",
    "\n",
    "#iterate through the elements of the iterator\n",
    "for element in iterator:\n",
    "\n",
    "    # Print each element\n",
    "    print(element)"
   ]
  },
  {
   "cell_type": "markdown",
   "id": "17e12bfb",
   "metadata": {},
   "source": [
    "Q. 4 \n",
    "\n",
    "     A Python generator function allows programmers  to declare a function that behaves like an iterator, providing a faster and easier way to create iterators. They can be used on an abstract container of data to turn it into an iterable object like lists, dictionaries and strings.\n",
    "     \n",
    "     The yield keyword in Python controls the flow of a generator function. This is similar to a return statement used for returning values in Python.\n",
    "     \n",
    "    def generator_name(arg):\n",
    "        # statements\n",
    "        yield something"
   ]
  },
  {
   "cell_type": "code",
   "execution_count": 46,
   "id": "d35709aa",
   "metadata": {},
   "outputs": [
    {
     "name": "stdout",
     "output_type": "stream",
     "text": [
      "0\n",
      "1\n",
      "2\n"
     ]
    }
   ],
   "source": [
    "def my_generator(n):\n",
    "\n",
    "    # initialize counter\n",
    "    value = 0\n",
    "\n",
    "    # loop until counter is less than n\n",
    "    while value < n:\n",
    "\n",
    "        # produce the current value of the counter\n",
    "        yield value\n",
    "\n",
    "        # increment the counter\n",
    "        value += 1\n",
    "\n",
    "# iterate over the generator object produced by my_generator\n",
    "for value in my_generator(3):\n",
    "\n",
    "    # print each value produced by generator\n",
    "    print(value)"
   ]
  },
  {
   "cell_type": "markdown",
   "id": "2b78c7ac",
   "metadata": {},
   "source": [
    "Q. 5"
   ]
  },
  {
   "cell_type": "code",
   "execution_count": 8,
   "id": "f12fdd67",
   "metadata": {},
   "outputs": [
    {
     "name": "stdout",
     "output_type": "stream",
     "text": [
      "2\t3\t5\t7\t11\t13\t17\t19\t23\t29\t31\t37\t41\t43\t47\t53\t59\t61\t67\t71\t73\t79\t83\t89\t97\t101\t103\t107\t109\t113\t127\t131\t137\t139\t149\t151\t157\t163\t167\t173\t179\t181\t191\t193\t197\t199\t211\t223\t227\t229\t233\t239\t241\t251\t257\t263\t269\t271\t277\t281\t283\t293\t307\t311\t313\t317\t331\t337\t347\t349\t353\t359\t367\t373\t379\t383\t389\t397\t401\t409\t419\t421\t431\t433\t439\t443\t449\t457\t461\t463\t467\t479\t487\t491\t499\t503\t509\t521\t523\t541\t547\t557\t563\t569\t571\t577\t587\t593\t599\t601\t607\t613\t617\t619\t631\t641\t643\t647\t653\t659\t661\t673\t677\t683\t691\t701\t709\t719\t727\t733\t739\t743\t751\t757\t761\t769\t773\t787\t797\t809\t811\t821\t823\t827\t829\t839\t853\t857\t859\t863\t877\t881\t883\t887\t907\t911\t919\t929\t937\t941\t947\t953\t967\t971\t977\t983\t991\t997\t"
     ]
    }
   ],
   "source": [
    "def isPrime(num):\n",
    "    for i in range(2,num):\n",
    "        if num%i==0:\n",
    "            return False\n",
    "    return True\n",
    "\n",
    "def generator(n):\n",
    "    num =2\n",
    "    while n:\n",
    "        if isPrime(num):\n",
    "            yield num\n",
    "            n-= 1\n",
    "        num+=1\n",
    "    return\n",
    "\n",
    "fun = generator(168)\n",
    "for element in fun:\n",
    "    print(element, end='\\t')\n",
    "    "
   ]
  },
  {
   "cell_type": "markdown",
   "id": "2f151850",
   "metadata": {},
   "source": [
    "Q. 6"
   ]
  },
  {
   "cell_type": "code",
   "execution_count": 14,
   "id": "3a0123c5",
   "metadata": {},
   "outputs": [
    {
     "name": "stdout",
     "output_type": "stream",
     "text": [
      "Enter the no.s of terms in fibonacci series....10\n",
      "0 1 1 2 3 5 8 13 21 34 "
     ]
    }
   ],
   "source": [
    "n = int (input(\"Enter the no.s of terms in fibonacci series....\"))\n",
    "\n",
    "f1, f2= 0,1\n",
    "\n",
    "if n==1:\n",
    "    print(f1)\n",
    "    \n",
    "elif n==2:\n",
    "    print(f1,' ',f2)\n",
    "\n",
    "else:\n",
    "    \n",
    "    print(f1,f2, end=' ')\n",
    "    \n",
    "    for i in range(3, n+1):\n",
    "        f3= f1+f2\n",
    "        print(f3, end = ' ')\n",
    "        f1= f2\n",
    "        f2=f3"
   ]
  },
  {
   "cell_type": "markdown",
   "id": "01492f99",
   "metadata": {},
   "source": [
    "Q. 7"
   ]
  },
  {
   "cell_type": "code",
   "execution_count": 16,
   "id": "06540fb6",
   "metadata": {},
   "outputs": [
    {
     "name": "stdout",
     "output_type": "stream",
     "text": [
      "['p', 'w', 's', 'k', 'i', 'l', 'l', 's']\n"
     ]
    }
   ],
   "source": [
    "demo = []\n",
    "\n",
    "for i in 'pwskills':\n",
    "    demo.append(i)\n",
    "\n",
    "print(demo)"
   ]
  },
  {
   "cell_type": "markdown",
   "id": "b1ac558f",
   "metadata": {},
   "source": [
    "Q. 8\n"
   ]
  },
  {
   "cell_type": "code",
   "execution_count": 18,
   "id": "ff44480d",
   "metadata": {},
   "outputs": [
    {
     "name": "stdout",
     "output_type": "stream",
     "text": [
      "Enter your string... madam\n",
      "Yes\n"
     ]
    }
   ],
   "source": [
    "def isPalindrome(s):\n",
    "    return s == s[::-1]\n",
    "  \n",
    "  \n",
    "# Driver code\n",
    "s = input(\"Enter your string... \")\n",
    "ans = isPalindrome(s)\n",
    "  \n",
    "if ans:\n",
    "    print(\"Yes\")\n",
    "else:\n",
    "    print(\"No\")"
   ]
  },
  {
   "cell_type": "markdown",
   "id": "faa32d68",
   "metadata": {},
   "source": [
    "Q. 9"
   ]
  },
  {
   "cell_type": "code",
   "execution_count": 21,
   "id": "c9455cbc",
   "metadata": {},
   "outputs": [
    {
     "name": "stdout",
     "output_type": "stream",
     "text": [
      "[1, 3, 5, 7, 9, 11, 13, 15, 17, 19, 21, 23, 25, 27, 29, 31, 33, 35, 37, 39, 41, 43, 45, 47, 49, 51, 53, 55, 57, 59, 61, 63, 65, 67, 69, 71, 73, 75, 77, 79, 81, 83, 85, 87, 89, 91, 93, 95, 97, 99]\n"
     ]
    }
   ],
   "source": [
    "number_list = [ x for x in range(100) if x % 2 != 0]\n",
    "print(number_list)"
   ]
  },
  {
   "cell_type": "code",
   "execution_count": null,
   "id": "30374ac1",
   "metadata": {},
   "outputs": [],
   "source": []
  }
 ],
 "metadata": {
  "kernelspec": {
   "display_name": "Python 3 (ipykernel)",
   "language": "python",
   "name": "python3"
  },
  "language_info": {
   "codemirror_mode": {
    "name": "ipython",
    "version": 3
   },
   "file_extension": ".py",
   "mimetype": "text/x-python",
   "name": "python",
   "nbconvert_exporter": "python",
   "pygments_lexer": "ipython3",
   "version": "3.10.9"
  }
 },
 "nbformat": 4,
 "nbformat_minor": 5
}
