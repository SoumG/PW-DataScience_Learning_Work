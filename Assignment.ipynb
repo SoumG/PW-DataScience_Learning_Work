{
 "cells": [
  {
   "cell_type": "markdown",
   "id": "bdf8d228",
   "metadata": {},
   "source": [
    "### Python\n",
    "### Assignment By Soumyajit Ghosh"
   ]
  },
  {
   "cell_type": "markdown",
   "id": "48a98920",
   "metadata": {},
   "source": [
    "###### Q1 Explain with an example each when to use a for loop and a while loop."
   ]
  },
  {
   "cell_type": "markdown",
   "id": "fc4fe169",
   "metadata": {},
   "source": [
    "###### For Loop ::\n",
    "            The for loop is used when we already know the number of iterations,\n",
    "    which means when we know how many times a statement has to be executed. \n",
    "    That is why we have to specify the ending point in the for loop initialization.\n",
    "    \n",
    "    \n",
    "    example:    n = [1, 2, 3]  # Initialization\n",
    "                for i in n:  # Condition and Updation\n",
    "                    print(i)\n",
    "\n",
    "\n",
    "###### While Loop\n",
    "            When we need to end the loop on a condition other than the number of times, \n",
    "    we use a while loop.In this case, it is not necessary to know the condition beforehand.\n",
    "    That is why we can give a boolean expression in the initialization of the loop.\n",
    "\n",
    "                i = 1  # Initialization\n",
    "                while i < 6:  # Condition\n",
    "                    print(i)\n",
    "                    i += 1  # Updation"
   ]
  },
  {
   "cell_type": "markdown",
   "id": "3c05ce30",
   "metadata": {},
   "source": [
    "###### Q2. Write a python program to print the sum and product of the first 10 natural numbers using for and while loop.\n"
   ]
  },
  {
   "cell_type": "code",
   "execution_count": 13,
   "id": "00c9dd8f",
   "metadata": {},
   "outputs": [
    {
     "name": "stdout",
     "output_type": "stream",
     "text": [
      " Enter number :  10\n",
      "The sum of 0 natural number is : 55\n"
     ]
    }
   ],
   "source": [
    "# Using While Loop\n",
    "\n",
    "# Sum of natural numbers up to num\n",
    "\n",
    "num = int(input(\" Enter number :  \"))\n",
    "\n",
    "if num < 0:\n",
    "   print(\"Enter a positive number\")\n",
    "else:\n",
    "   sum = 0\n",
    "   # use while loop to iterate until zero\n",
    "   while(num > 0):\n",
    "       sum += num\n",
    "       num -= 1\n",
    "   print(f\"The sum of {num} natural number is : {sum}\")"
   ]
  },
  {
   "cell_type": "code",
   "execution_count": 14,
   "id": "b196b39d",
   "metadata": {},
   "outputs": [
    {
     "name": "stdout",
     "output_type": "stream",
     "text": [
      " Enter number :  10\n",
      "The product of 10 natural number is : 3628800\n"
     ]
    }
   ],
   "source": [
    "# Product\n",
    "\n",
    "num = int(input(\" Enter number :  \"))\n",
    "product = 1\n",
    " \n",
    "for i in range(1, num+1):\n",
    "    product = product * i\n",
    " \n",
    "print(f\"The product of {num} natural number is : {product}\")\n"
   ]
  },
  {
   "cell_type": "markdown",
   "id": "e148fe2e",
   "metadata": {},
   "source": [
    "###### Q3. Create a python program to compute the electricity bill for a household.\n",
    "\n",
    "##### The per-unit charges in rupees are as follows: For the first 100 units, the user will be charged Rs. 4.5 per\n",
    "###### unit, for the next 100 units, the user will be charged Rs. 6 per unit, and for the next 100 units, the user will\n",
    "#### be charged Rs. 10 per unit, After 300 units and above the user will be charged Rs. 20 per unit.\n",
    "\n",
    "##### You are required to take the units of electricity consumed in a month from the user as input.\n",
    "##### Your program must pass this test case: when the unit of electricity consumed by the user in a month is\n",
    "##### 310, the total electricity bill should be 2250.\n"
   ]
  },
  {
   "cell_type": "code",
   "execution_count": 71,
   "id": "ef8a877b",
   "metadata": {},
   "outputs": [
    {
     "name": "stdout",
     "output_type": "stream",
     "text": [
      " Enter Your Unit :310\n",
      " Your Charges for 310 unit is 2250.0 Rs\n"
     ]
    }
   ],
   "source": [
    "def calculateBill(unit):\n",
    "    unit = int(input(\" Enter Your Unit :\"))\n",
    "    \n",
    "    if (units <= 100):\n",
    "      \n",
    "        return units * 4.5;\n",
    "     \n",
    "    elif (units <= 200):\n",
    "     \n",
    "        return ((100 * 4.5) +\n",
    "                (units - 100) * 6);\n",
    "     \n",
    "    elif (units <= 300):\n",
    "      \n",
    "        return ((100 * 4.5) +\n",
    "                (100 * 6) +\n",
    "                (units - 200) * 10);\n",
    "     \n",
    "    elif (units > 300):\n",
    "     \n",
    "        return ((100 * 4.5) +\n",
    "                (100 * 6) +\n",
    "                (100 * 10) +\n",
    "                (units - 300) * 20);\n",
    "     \n",
    "    return 0;\n",
    " \n",
    "\n",
    "print(f\" Your Charges for {unit} unit is {calculateBill(unit)} Rs\");\n",
    " "
   ]
  },
  {
   "cell_type": "markdown",
   "id": "f2800473",
   "metadata": {},
   "source": [
    "###### Q4. Create a list of numbers from 1 to 100. Use for loop and while loop to calculate the cube of each\n",
    "###### number and if the cube of that number is divisible by 4 or 5 then append that number in a list and print\n",
    "###### that list."
   ]
  },
  {
   "cell_type": "code",
   "execution_count": 76,
   "id": "9c109380",
   "metadata": {},
   "outputs": [
    {
     "name": "stdout",
     "output_type": "stream",
     "text": [
      "[1, 2, 3, 4, 5, 6, 7, 8, 9, 10, 11, 12, 13, 14, 15, 16, 17, 18, 19, 20, 21, 22, 23, 24, 25, 26, 27, 28, 29, 30, 31, 32, 33, 34, 35, 36, 37, 38, 39, 40, 41, 42, 43, 44, 45, 46, 47, 48, 49, 50, 51, 52, 53, 54, 55, 56, 57, 58, 59, 60, 61, 62, 63, 64, 65, 66, 67, 68, 69, 70, 71, 72, 73, 74, 75, 76, 77, 78, 79, 80, 81, 82, 83, 84, 85, 86, 87, 88, 89, 90, 91, 92, 93, 94, 95, 96, 97, 98, 99, 100]\n"
     ]
    }
   ],
   "source": [
    "# Create List\n",
    "list = []\n",
    "\n",
    "for i in range (1,101):\n",
    "    list.append(i)\n",
    "print(list)"
   ]
  },
  {
   "cell_type": "code",
   "execution_count": 77,
   "id": "dd1d33fd",
   "metadata": {},
   "outputs": [],
   "source": [
    "# calculate the cube of each number\n",
    "\n"
   ]
  },
  {
   "cell_type": "code",
   "execution_count": 78,
   "id": "0cc3242d",
   "metadata": {},
   "outputs": [
    {
     "name": "stdout",
     "output_type": "stream",
     "text": [
      "[1, 8, 27, 64, 125, 216, 343, 512, 729, 1000, 1331, 1728, 2197, 2744, 3375, 4096, 4913, 5832, 6859, 8000, 9261, 10648, 12167, 13824, 15625, 17576, 19683, 21952, 24389, 27000, 29791, 32768, 35937, 39304, 42875, 46656, 50653, 54872, 59319, 64000, 68921, 74088, 79507, 85184, 91125, 97336, 103823, 110592, 117649, 125000, 132651, 140608, 148877, 157464, 166375, 175616, 185193, 195112, 205379, 216000, 226981, 238328, 250047, 262144, 274625, 287496, 300763, 314432, 328509, 343000, 357911, 373248, 389017, 405224, 421875, 438976, 456533, 474552, 493039, 512000, 531441, 551368, 571787, 592704, 614125, 636056, 658503, 681472, 704969, 729000, 753571, 778688, 804357, 830584, 857375, 884736, 912673, 941192, 970299, 1000000]\n"
     ]
    }
   ],
   "source": [
    "list = []\n",
    "\n",
    "for i in range (1,101):\n",
    "    list.append(i*i*i)\n",
    "print(list)"
   ]
  },
  {
   "cell_type": "code",
   "execution_count": 84,
   "id": "a6008ee8",
   "metadata": {},
   "outputs": [
    {
     "name": "stdout",
     "output_type": "stream",
     "text": [
      "[1000, 8000, 27000, 64000, 125000, 216000, 343000, 512000, 729000, 1000000]\n"
     ]
    }
   ],
   "source": [
    "# if the cube of that number is divisible by 4 or 5 then append that number in a list and print\n",
    "\n",
    "list = []\n",
    "\n",
    "for i in range (1,101):\n",
    "        if (i*i*i %4==0) and (i*i*i %5==0): \n",
    "            list.append(i*i*i)\n",
    "print(list)"
   ]
  },
  {
   "cell_type": "code",
   "execution_count": 88,
   "id": "47d13a6c",
   "metadata": {},
   "outputs": [
    {
     "name": "stdout",
     "output_type": "stream",
     "text": [
      "[1000, 8000, 27000, 64000, 125000, 216000, 343000, 512000, 729000, 1000000]\n"
     ]
    }
   ],
   "source": [
    "#Alternative way\n",
    "result = [num**3 for num in range(1, 101) if (num**3 % 4 == 0) and (num**3 % 5 ==0)]\n",
    "print(result)"
   ]
  },
  {
   "cell_type": "markdown",
   "id": "2b35d196",
   "metadata": {},
   "source": [
    "##### Q5. Write a program to filter count vowels in the below-given string.\n",
    "##### string = \"I want to become a data scientist\""
   ]
  },
  {
   "cell_type": "code",
   "execution_count": 102,
   "id": "3732a373",
   "metadata": {},
   "outputs": [
    {
     "name": "stdout",
     "output_type": "stream",
     "text": [
      "I want to become a data scientist\n",
      "Number of vowels in the given sentence -> 'I want to become a data scientist ' string is: 12\n"
     ]
    }
   ],
   "source": [
    "string = \"I want to become a data scientist\"\n",
    "\n",
    "print(string)\n",
    "\n",
    "# initializing count variable\n",
    "count = 0\n",
    "\n",
    "# creating a list of vowels\n",
    "vowels = [\"a\", \"e\", \"i\", \"o\", \"u\", \"A\", \"E\", \"I\", \"O\", \"u\"]\n",
    "\n",
    "for i in range(len(string)):\n",
    "    if string[i] in vowels:\n",
    "        count += 1\n",
    "\n",
    "print(f\"Number of vowels in the given sentence -> '{string} ' string is: {count}\")\n"
   ]
  },
  {
   "cell_type": "code",
   "execution_count": null,
   "id": "87e4546c",
   "metadata": {},
   "outputs": [],
   "source": []
  }
 ],
 "metadata": {
  "kernelspec": {
   "display_name": "Python 3",
   "language": "python",
   "name": "python3"
  },
  "language_info": {
   "codemirror_mode": {
    "name": "ipython",
    "version": 3
   },
   "file_extension": ".py",
   "mimetype": "text/x-python",
   "name": "python",
   "nbconvert_exporter": "python",
   "pygments_lexer": "ipython3",
   "version": "3.8.8"
  }
 },
 "nbformat": 4,
 "nbformat_minor": 5
}
