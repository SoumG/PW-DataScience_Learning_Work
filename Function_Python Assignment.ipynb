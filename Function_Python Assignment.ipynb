{
 "cells": [
  {
   "cell_type": "markdown",
   "id": "dc58f8e0",
   "metadata": {},
   "source": [
    "#### Q1. Create a python program to sort the given list of tuples based on integer value using a\n",
    "#### lambda function.\n",
    "#### [('Sachin Tendulkar', 34357), ('Ricky Ponting', 27483), ('Jack Kallis', 25534), ('Virat Kohli', 24936)]"
   ]
  },
  {
   "cell_type": "code",
   "execution_count": 6,
   "id": "9ec9ea4a",
   "metadata": {},
   "outputs": [
    {
     "name": "stdout",
     "output_type": "stream",
     "text": [
      "[('Virat Kohli', 24936), ('Jack Kallis', 25534), ('Ricky Ponting', 27483), ('Sachin Tendulkar', 34357)]\n"
     ]
    }
   ],
   "source": [
    "element = [('Sachin Tendulkar', 34357), ('Ricky Ponting', 27483), ('Jack Kallis', 25534), ('Virat Kohli', 24936)]\n",
    "\n",
    "sorted_element = sorted(element,key = lambda x: x[1])\n",
    "print(sorted_element)\n"
   ]
  },
  {
   "cell_type": "markdown",
   "id": "d5abf308",
   "metadata": {},
   "source": [
    "#### Q2. Write a Python Program to find the squares of all the numbers in the given list of integers using\n",
    "#### lambda and map functions.\n",
    "#### [1, 2, 3, 4, 5, 6, 7, 8, 9, 10]"
   ]
  },
  {
   "cell_type": "code",
   "execution_count": 9,
   "id": "9707bce6",
   "metadata": {},
   "outputs": [
    {
     "name": "stdout",
     "output_type": "stream",
     "text": [
      "[1, 4, 9, 16, 25, 36, 49, 64, 81, 100]\n"
     ]
    }
   ],
   "source": [
    "numbers = [1, 2, 3, 4, 5, 6, 7, 8, 9, 10]\n",
    "\n",
    "squared_numbers = list(map(lambda x: x**2, numbers))\n",
    "print(squared_numbers)\n"
   ]
  },
  {
   "cell_type": "markdown",
   "id": "743976ad",
   "metadata": {},
   "source": [
    "#### Q3. Write a python program to convert the given list of integers into a tuple of strings. Use map and\n",
    "#### lambda functions\n",
    "#### Given String: [1, 2, 3, 4, 5, 6, 7, 8, 9, 10]\n",
    "#### Expected output: ('1', '2', '3', '4', '5', '6', '7', '8', '9', '10')"
   ]
  },
  {
   "cell_type": "code",
   "execution_count": 11,
   "id": "db65f218",
   "metadata": {},
   "outputs": [
    {
     "name": "stdout",
     "output_type": "stream",
     "text": [
      "('1', '2', '3', '4', '5', '6', '7', '8', '9', '10')\n"
     ]
    }
   ],
   "source": [
    "numbers = [1, 2, 3, 4, 5, 6, 7, 8, 9, 10]\n",
    "\n",
    "string_tuple = tuple(map(lambda x: str(x), numbers))\n",
    "print(string_tuple)\n"
   ]
  },
  {
   "cell_type": "markdown",
   "id": "22777337",
   "metadata": {},
   "source": [
    "#### Q4. Write a python program using reduce function to compute the product of a list containing numbers\n",
    "#### from 1 to 25."
   ]
  },
  {
   "cell_type": "code",
   "execution_count": 12,
   "id": "3c52b673",
   "metadata": {},
   "outputs": [
    {
     "name": "stdout",
     "output_type": "stream",
     "text": [
      "15511210043330985984000000\n"
     ]
    }
   ],
   "source": [
    "from functools import reduce\n",
    "\n",
    "numbers = list(range(1, 26))\n",
    "product = reduce(lambda x, y: x * y, numbers)\n",
    "\n",
    "print(product)\n"
   ]
  },
  {
   "cell_type": "markdown",
   "id": "f7980e63",
   "metadata": {},
   "source": [
    "#### Q5. Write a python program to filter the numbers in a given list that are divisible by 2 and 3 using the\n",
    "#### filter function.\n",
    "#### [2, 3, 6, 9, 27, 60, 90, 120, 55, 46]"
   ]
  },
  {
   "cell_type": "code",
   "execution_count": 13,
   "id": "ed142cc9",
   "metadata": {},
   "outputs": [
    {
     "name": "stdout",
     "output_type": "stream",
     "text": [
      "[6, 60, 90, 120]\n"
     ]
    }
   ],
   "source": [
    "numbers = [2, 3, 6, 9, 27, 60, 90, 120, 55, 46]\n",
    "\n",
    "divisible_by_2_and_3 = list(filter(lambda x: x % 2 == 0 and x % 3 == 0, numbers))\n",
    "print(divisible_by_2_and_3)\n"
   ]
  },
  {
   "cell_type": "markdown",
   "id": "9d9b1247",
   "metadata": {},
   "source": [
    "#### Q6. Write a python program to find palindromes in the given list of strings using lambda and filter\n",
    "#### function.\n",
    "#### ['python', 'php', 'aba', 'radar', 'level']"
   ]
  },
  {
   "cell_type": "code",
   "execution_count": 14,
   "id": "b3979833",
   "metadata": {},
   "outputs": [
    {
     "name": "stdout",
     "output_type": "stream",
     "text": [
      "['php', 'aba', 'radar', 'level']\n"
     ]
    }
   ],
   "source": [
    "strings = ['python', 'php', 'aba', 'radar', 'level']\n",
    "\n",
    "palindromes = list(filter(lambda x: x == x[::-1], strings))\n",
    "print(palindromes)\n"
   ]
  },
  {
   "cell_type": "code",
   "execution_count": null,
   "id": "f071cd03",
   "metadata": {},
   "outputs": [],
   "source": []
  },
  {
   "cell_type": "code",
   "execution_count": null,
   "id": "d5d4a5f6",
   "metadata": {},
   "outputs": [],
   "source": []
  }
 ],
 "metadata": {
  "kernelspec": {
   "display_name": "Python 3 (ipykernel)",
   "language": "python",
   "name": "python3"
  },
  "language_info": {
   "codemirror_mode": {
    "name": "ipython",
    "version": 3
   },
   "file_extension": ".py",
   "mimetype": "text/x-python",
   "name": "python",
   "nbconvert_exporter": "python",
   "pygments_lexer": "ipython3",
   "version": "3.10.9"
  }
 },
 "nbformat": 4,
 "nbformat_minor": 5
}
